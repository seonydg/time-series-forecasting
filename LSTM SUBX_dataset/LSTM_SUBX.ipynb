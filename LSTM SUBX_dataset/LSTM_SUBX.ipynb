{
 "cells": [
  {
   "cell_type": "code",
   "execution_count": null,
   "metadata": {},
   "outputs": [],
   "source": []
  },
  {
   "cell_type": "markdown",
   "metadata": {},
   "source": [
    "### data preprocessing\n"
   ]
  },
  {
   "cell_type": "markdown",
   "metadata": {},
   "source": [
    "dataset : https://finance.yahoo.com/quote/sbux/history/"
   ]
  },
  {
   "cell_type": "code",
   "execution_count": 26,
   "metadata": {},
   "outputs": [],
   "source": [
    "import os\n",
    "import time\n",
    "import numpy as np\n",
    "import pandas as pd\n",
    "import matplotlib.pyplot as plt\n",
    "%matplotlib inline\n",
    "\n",
    "import torch\n",
    "import torch.nn as nn\n",
    "from torch.utils.data import TensorDataset, DataLoader\n",
    "from torch.autograd import Variable\n",
    "\n",
    "from tqdm import tqdm\n",
    "from sklearn.preprocessing import StandardScaler, MinMaxScaler\n",
    "from sklearn. model_selection import train_test_split"
   ]
  },
  {
   "cell_type": "code",
   "execution_count": 27,
   "metadata": {},
   "outputs": [
    {
     "data": {
      "text/html": [
       "<div>\n",
       "<style scoped>\n",
       "    .dataframe tbody tr th:only-of-type {\n",
       "        vertical-align: middle;\n",
       "    }\n",
       "\n",
       "    .dataframe tbody tr th {\n",
       "        vertical-align: top;\n",
       "    }\n",
       "\n",
       "    .dataframe thead th {\n",
       "        text-align: right;\n",
       "    }\n",
       "</style>\n",
       "<table border=\"1\" class=\"dataframe\">\n",
       "  <thead>\n",
       "    <tr style=\"text-align: right;\">\n",
       "      <th></th>\n",
       "      <th>Date</th>\n",
       "      <th>Open</th>\n",
       "      <th>High</th>\n",
       "      <th>Low</th>\n",
       "      <th>Close</th>\n",
       "      <th>Adj Close</th>\n",
       "      <th>Volume</th>\n",
       "    </tr>\n",
       "  </thead>\n",
       "  <tbody>\n",
       "    <tr>\n",
       "      <th>0</th>\n",
       "      <td>2019-12-11</td>\n",
       "      <td>86.260002</td>\n",
       "      <td>86.870003</td>\n",
       "      <td>85.849998</td>\n",
       "      <td>86.589996</td>\n",
       "      <td>84.145752</td>\n",
       "      <td>4921900</td>\n",
       "    </tr>\n",
       "    <tr>\n",
       "      <th>1</th>\n",
       "      <td>2019-12-12</td>\n",
       "      <td>88.000000</td>\n",
       "      <td>88.889999</td>\n",
       "      <td>87.540001</td>\n",
       "      <td>88.209999</td>\n",
       "      <td>85.720032</td>\n",
       "      <td>10282100</td>\n",
       "    </tr>\n",
       "    <tr>\n",
       "      <th>2</th>\n",
       "      <td>2019-12-13</td>\n",
       "      <td>88.019997</td>\n",
       "      <td>88.790001</td>\n",
       "      <td>87.580002</td>\n",
       "      <td>88.669998</td>\n",
       "      <td>86.167046</td>\n",
       "      <td>6714100</td>\n",
       "    </tr>\n",
       "    <tr>\n",
       "      <th>3</th>\n",
       "      <td>2019-12-16</td>\n",
       "      <td>89.139999</td>\n",
       "      <td>89.300003</td>\n",
       "      <td>88.430000</td>\n",
       "      <td>88.779999</td>\n",
       "      <td>86.273941</td>\n",
       "      <td>6705600</td>\n",
       "    </tr>\n",
       "    <tr>\n",
       "      <th>4</th>\n",
       "      <td>2019-12-17</td>\n",
       "      <td>88.870003</td>\n",
       "      <td>88.970001</td>\n",
       "      <td>87.470001</td>\n",
       "      <td>88.129997</td>\n",
       "      <td>85.642288</td>\n",
       "      <td>7296900</td>\n",
       "    </tr>\n",
       "  </tbody>\n",
       "</table>\n",
       "</div>"
      ],
      "text/plain": [
       "         Date       Open       High        Low      Close  Adj Close    Volume\n",
       "0  2019-12-11  86.260002  86.870003  85.849998  86.589996  84.145752   4921900\n",
       "1  2019-12-12  88.000000  88.889999  87.540001  88.209999  85.720032  10282100\n",
       "2  2019-12-13  88.019997  88.790001  87.580002  88.669998  86.167046   6714100\n",
       "3  2019-12-16  89.139999  89.300003  88.430000  88.779999  86.273941   6705600\n",
       "4  2019-12-17  88.870003  88.970001  87.470001  88.129997  85.642288   7296900"
      ]
     },
     "execution_count": 27,
     "metadata": {},
     "output_type": "execute_result"
    }
   ],
   "source": [
    "data = pd.read_csv('./data/SBUX.csv')\n",
    "data.head()"
   ]
  },
  {
   "cell_type": "code",
   "execution_count": 28,
   "metadata": {},
   "outputs": [
    {
     "name": "stdout",
     "output_type": "stream",
     "text": [
      "<class 'pandas.core.frame.DataFrame'>\n",
      "RangeIndex: 253 entries, 0 to 252\n",
      "Data columns (total 7 columns):\n",
      " #   Column     Non-Null Count  Dtype  \n",
      "---  ------     --------------  -----  \n",
      " 0   Date       253 non-null    object \n",
      " 1   Open       253 non-null    float64\n",
      " 2   High       253 non-null    float64\n",
      " 3   Low        253 non-null    float64\n",
      " 4   Close      253 non-null    float64\n",
      " 5   Adj Close  253 non-null    float64\n",
      " 6   Volume     253 non-null    int64  \n",
      "dtypes: float64(5), int64(1), object(1)\n",
      "memory usage: 14.0+ KB\n"
     ]
    }
   ],
   "source": [
    "data.info()"
   ]
  },
  {
   "cell_type": "code",
   "execution_count": 29,
   "metadata": {},
   "outputs": [],
   "source": [
    "data.sort_values('Date', inplace=True)"
   ]
  },
  {
   "cell_type": "code",
   "execution_count": 30,
   "metadata": {},
   "outputs": [
    {
     "data": {
      "text/html": [
       "<div>\n",
       "<style scoped>\n",
       "    .dataframe tbody tr th:only-of-type {\n",
       "        vertical-align: middle;\n",
       "    }\n",
       "\n",
       "    .dataframe tbody tr th {\n",
       "        vertical-align: top;\n",
       "    }\n",
       "\n",
       "    .dataframe thead th {\n",
       "        text-align: right;\n",
       "    }\n",
       "</style>\n",
       "<table border=\"1\" class=\"dataframe\">\n",
       "  <thead>\n",
       "    <tr style=\"text-align: right;\">\n",
       "      <th></th>\n",
       "      <th>Open</th>\n",
       "      <th>High</th>\n",
       "      <th>Low</th>\n",
       "      <th>Close</th>\n",
       "      <th>Adj Close</th>\n",
       "      <th>Volume</th>\n",
       "    </tr>\n",
       "    <tr>\n",
       "      <th>Date</th>\n",
       "      <th></th>\n",
       "      <th></th>\n",
       "      <th></th>\n",
       "      <th></th>\n",
       "      <th></th>\n",
       "      <th></th>\n",
       "    </tr>\n",
       "  </thead>\n",
       "  <tbody>\n",
       "    <tr>\n",
       "      <th>2019-12-11</th>\n",
       "      <td>86.260002</td>\n",
       "      <td>86.870003</td>\n",
       "      <td>85.849998</td>\n",
       "      <td>86.589996</td>\n",
       "      <td>84.145752</td>\n",
       "      <td>4921900</td>\n",
       "    </tr>\n",
       "    <tr>\n",
       "      <th>2019-12-12</th>\n",
       "      <td>88.000000</td>\n",
       "      <td>88.889999</td>\n",
       "      <td>87.540001</td>\n",
       "      <td>88.209999</td>\n",
       "      <td>85.720032</td>\n",
       "      <td>10282100</td>\n",
       "    </tr>\n",
       "    <tr>\n",
       "      <th>2019-12-13</th>\n",
       "      <td>88.019997</td>\n",
       "      <td>88.790001</td>\n",
       "      <td>87.580002</td>\n",
       "      <td>88.669998</td>\n",
       "      <td>86.167046</td>\n",
       "      <td>6714100</td>\n",
       "    </tr>\n",
       "    <tr>\n",
       "      <th>2019-12-16</th>\n",
       "      <td>89.139999</td>\n",
       "      <td>89.300003</td>\n",
       "      <td>88.430000</td>\n",
       "      <td>88.779999</td>\n",
       "      <td>86.273941</td>\n",
       "      <td>6705600</td>\n",
       "    </tr>\n",
       "    <tr>\n",
       "      <th>2019-12-17</th>\n",
       "      <td>88.870003</td>\n",
       "      <td>88.970001</td>\n",
       "      <td>87.470001</td>\n",
       "      <td>88.129997</td>\n",
       "      <td>85.642288</td>\n",
       "      <td>7296900</td>\n",
       "    </tr>\n",
       "  </tbody>\n",
       "</table>\n",
       "</div>"
      ],
      "text/plain": [
       "                 Open       High        Low      Close  Adj Close    Volume\n",
       "Date                                                                       \n",
       "2019-12-11  86.260002  86.870003  85.849998  86.589996  84.145752   4921900\n",
       "2019-12-12  88.000000  88.889999  87.540001  88.209999  85.720032  10282100\n",
       "2019-12-13  88.019997  88.790001  87.580002  88.669998  86.167046   6714100\n",
       "2019-12-16  89.139999  89.300003  88.430000  88.779999  86.273941   6705600\n",
       "2019-12-17  88.870003  88.970001  87.470001  88.129997  85.642288   7296900"
      ]
     },
     "execution_count": 30,
     "metadata": {},
     "output_type": "execute_result"
    }
   ],
   "source": [
    "data['Date'] = pd.to_datetime(data['Date'])\n",
    "data.set_index('Date', inplace=True)\n",
    "data.head()"
   ]
  },
  {
   "cell_type": "code",
   "execution_count": 31,
   "metadata": {},
   "outputs": [],
   "source": [
    "data['Volume'] = data['Volume'].astype(float)"
   ]
  },
  {
   "cell_type": "code",
   "execution_count": 32,
   "metadata": {},
   "outputs": [],
   "source": [
    "X = data.drop('Volume', axis=1)\n",
    "y = data[['Volume']]"
   ]
  },
  {
   "cell_type": "code",
   "execution_count": 33,
   "metadata": {},
   "outputs": [
    {
     "name": "stdout",
     "output_type": "stream",
     "text": [
      "                  Open        High         Low       Close   Adj Close\n",
      "Date                                                                  \n",
      "2019-12-11   86.260002   86.870003   85.849998   86.589996   84.145752\n",
      "2019-12-12   88.000000   88.889999   87.540001   88.209999   85.720032\n",
      "2019-12-13   88.019997   88.790001   87.580002   88.669998   86.167046\n",
      "2019-12-16   89.139999   89.300003   88.430000   88.779999   86.273941\n",
      "2019-12-17   88.870003   88.970001   87.470001   88.129997   85.642288\n",
      "...                ...         ...         ...         ...         ...\n",
      "2020-12-04  101.349998  102.940002  101.070000  102.279999  101.442787\n",
      "2020-12-07  102.010002  102.220001  100.690002  101.410004  100.579918\n",
      "2020-12-08  100.370003  101.570000  100.010002  101.209999  100.381554\n",
      "2020-12-09  101.940002  102.209999  100.099998  100.400002   99.578186\n",
      "2020-12-10  103.510002  106.089996  102.750000  105.389999  104.527336\n",
      "\n",
      "[253 rows x 5 columns]\n",
      "                Volume\n",
      "Date                  \n",
      "2019-12-11   4921900.0\n",
      "2019-12-12  10282100.0\n",
      "2019-12-13   6714100.0\n",
      "2019-12-16   6705600.0\n",
      "2019-12-17   7296900.0\n",
      "...                ...\n",
      "2020-12-04   6952700.0\n",
      "2020-12-07   4514800.0\n",
      "2020-12-08   3911300.0\n",
      "2020-12-09   6629900.0\n",
      "2020-12-10  12939200.0\n",
      "\n",
      "[253 rows x 1 columns]\n"
     ]
    }
   ],
   "source": [
    "print(X)\n",
    "print(y)"
   ]
  },
  {
   "cell_type": "code",
   "execution_count": 34,
   "metadata": {},
   "outputs": [
    {
     "name": "stdout",
     "output_type": "stream",
     "text": [
      "Train (200, 5) (53, 5)\n",
      "Test (200, 1) (53, 1)\n"
     ]
    }
   ],
   "source": [
    "ms = MinMaxScaler()\n",
    "ss = StandardScaler()\n",
    "\n",
    "X_ss = ss.fit_transform(X)\n",
    "y_ms = ms.fit_transform(y)\n",
    "\n",
    "X_train = X_ss[:200, :]\n",
    "X_test = X_ss[200:, :]\n",
    "\n",
    "y_train = y_ms[:200, :]\n",
    "y_test = y_ms[200:, :]\n",
    "\n",
    "print('Train', X_train.shape, X_test.shape)\n",
    "print('Test', y_train.shape, y_test.shape)"
   ]
  },
  {
   "cell_type": "code",
   "execution_count": 35,
   "metadata": {},
   "outputs": [
    {
     "name": "stdout",
     "output_type": "stream",
     "text": [
      "Train torch.Size([200, 1, 5]) torch.Size([53, 1, 5])\n",
      "Test (200, 1) (53, 1)\n"
     ]
    }
   ],
   "source": [
    "X_train_tensors = Variable(torch.Tensor(X_train))\n",
    "X_test_tensors = Variable(torch.Tensor(X_test))\n",
    "\n",
    "y_train_tensors = Variable(torch.Tensor(y_train))\n",
    "y_test_tensors = Variable(torch.Tensor(y_test))\n",
    "\n",
    "X_train_tensors_f = torch.reshape(X_train_tensors, (X_train_tensors.shape[0], 1, X_train_tensors.shape[1]))\n",
    "X_test_tensors_f = torch.reshape(X_test_tensors, (X_test_tensors.shape[0], 1, X_test_tensors.shape[1]))\n",
    "\n",
    "print('Train', X_train_tensors_f.shape, X_test_tensors_f.shape)\n",
    "print('Test', y_train.shape, y_test.shape)"
   ]
  },
  {
   "cell_type": "markdown",
   "metadata": {},
   "source": [
    "### model"
   ]
  },
  {
   "cell_type": "code",
   "execution_count": 36,
   "metadata": {},
   "outputs": [],
   "source": [
    "class LSTM(nn.Module):\n",
    "    def __init__(self, num_classes, input_size, hidden_size, num_layers, seq_length):\n",
    "        super(LSTM, self).__init__()\n",
    "\n",
    "        self.num_classes = num_classes\n",
    "        self.num_layers = num_layers\n",
    "        self.input_size = input_size\n",
    "        self.hidden_size = hidden_size\n",
    "        self.seq_length = seq_length\n",
    "\n",
    "        self.lstm = nn.LSTM(input_size=input_size, hidden_size=hidden_size, num_layers=num_layers, batch_first=True)\n",
    "        self.fc1 = nn.Linear(hidden_size, 128)\n",
    "        self.fc2 = nn.Linear(128, num_classes)\n",
    "        self.relu = nn.ReLU()\n",
    "    \n",
    "    def forward(self, x):\n",
    "        h_0 = Variable(torch.zeros(self.num_layers, x.size(0), self.hidden_size))\n",
    "        c_0 = Variable(torch.zeros(self.num_layers, x.size(0), self.hidden_size))\n",
    "        output, (hn, cn) = self.lstm(x, (h_0, c_0))\n",
    "        hn = hn.view(-1, self.hidden_size)\n",
    "        out = self.relu(hn)\n",
    "        out = self.fc1(out)\n",
    "        out = self.relu(out)\n",
    "        out = self.fc2(out)\n",
    "\n",
    "        return out"
   ]
  },
  {
   "cell_type": "markdown",
   "metadata": {},
   "source": [
    "### train"
   ]
  },
  {
   "cell_type": "code",
   "execution_count": 37,
   "metadata": {},
   "outputs": [
    {
     "name": "stdout",
     "output_type": "stream",
     "text": [
      "LSTM(\n",
      "  (lstm): LSTM(5, 2, batch_first=True)\n",
      "  (fc1): Linear(in_features=2, out_features=128, bias=True)\n",
      "  (fc2): Linear(in_features=128, out_features=1, bias=True)\n",
      "  (relu): ReLU()\n",
      ")\n"
     ]
    }
   ],
   "source": [
    "num_epochs = 10000\n",
    "lr = 0.0001\n",
    "input_size = 5\n",
    "hidden_size = 2\n",
    "num_layers = 1\n",
    "\n",
    "num_classes = 1\n",
    "model = LSTM(num_classes=num_classes, input_size=input_size, hidden_size=hidden_size, num_layers=num_layers, seq_length=X_train_tensors_f.shape[1])\n",
    "criterion = nn.MSELoss()\n",
    "optimizer = torch.optim.Adam(model.parameters(), lr=lr)\n",
    "print(model)"
   ]
  },
  {
   "cell_type": "code",
   "execution_count": 38,
   "metadata": {},
   "outputs": [
    {
     "name": "stdout",
     "output_type": "stream",
     "text": [
      " Epoch 0/10000 : \tAcc : 1.0, Loss : 0.237095\n",
      " Epoch 100/10000 : \tAcc : 1.0, Loss : 0.081408\n",
      " Epoch 200/10000 : \tAcc : 1.0, Loss : 0.044999\n",
      " Epoch 300/10000 : \tAcc : 1.0, Loss : 0.040422\n",
      " Epoch 400/10000 : \tAcc : 1.0, Loss : 0.039722\n",
      " Epoch 500/10000 : \tAcc : 1.0, Loss : 0.039453\n",
      " Epoch 600/10000 : \tAcc : 1.0, Loss : 0.039314\n",
      " Epoch 700/10000 : \tAcc : 1.0, Loss : 0.039235\n",
      " Epoch 800/10000 : \tAcc : 1.0, Loss : 0.039182\n",
      " Epoch 900/10000 : \tAcc : 1.0, Loss : 0.039126\n",
      " Epoch 1000/10000 : \tAcc : 1.0, Loss : 0.039027\n",
      " Epoch 1100/10000 : \tAcc : 1.0, Loss : 0.038787\n",
      " Epoch 1200/10000 : \tAcc : 1.0, Loss : 0.038206\n",
      " Epoch 1300/10000 : \tAcc : 1.0, Loss : 0.036996\n",
      " Epoch 1400/10000 : \tAcc : 1.0, Loss : 0.035263\n",
      " Epoch 1500/10000 : \tAcc : 1.0, Loss : 0.033651\n",
      " Epoch 1600/10000 : \tAcc : 1.0, Loss : 0.032603\n",
      " Epoch 1700/10000 : \tAcc : 1.0, Loss : 0.032077\n",
      " Epoch 1800/10000 : \tAcc : 1.0, Loss : 0.031728\n",
      " Epoch 1900/10000 : \tAcc : 1.0, Loss : 0.030964\n",
      " Epoch 2000/10000 : \tAcc : 1.0, Loss : 0.028733\n",
      " Epoch 2100/10000 : \tAcc : 1.0, Loss : 0.025440\n",
      " Epoch 2200/10000 : \tAcc : 1.0, Loss : 0.022650\n",
      " Epoch 2300/10000 : \tAcc : 1.0, Loss : 0.020378\n",
      " Epoch 2400/10000 : \tAcc : 1.0, Loss : 0.018339\n",
      " Epoch 2500/10000 : \tAcc : 1.0, Loss : 0.016637\n",
      " Epoch 2600/10000 : \tAcc : 1.0, Loss : 0.015284\n",
      " Epoch 2700/10000 : \tAcc : 1.0, Loss : 0.014234\n",
      " Epoch 2800/10000 : \tAcc : 1.0, Loss : 0.013441\n",
      " Epoch 2900/10000 : \tAcc : 1.0, Loss : 0.012857\n",
      " Epoch 3000/10000 : \tAcc : 1.0, Loss : 0.012460\n",
      " Epoch 3100/10000 : \tAcc : 1.0, Loss : 0.012191\n",
      " Epoch 3200/10000 : \tAcc : 1.0, Loss : 0.011994\n",
      " Epoch 3300/10000 : \tAcc : 1.0, Loss : 0.011848\n",
      " Epoch 3400/10000 : \tAcc : 1.0, Loss : 0.011739\n",
      " Epoch 3500/10000 : \tAcc : 1.0, Loss : 0.011657\n",
      " Epoch 3600/10000 : \tAcc : 1.0, Loss : 0.011594\n",
      " Epoch 3700/10000 : \tAcc : 1.0, Loss : 0.011546\n",
      " Epoch 3800/10000 : \tAcc : 1.0, Loss : 0.011508\n",
      " Epoch 3900/10000 : \tAcc : 1.0, Loss : 0.011479\n",
      " Epoch 4000/10000 : \tAcc : 1.0, Loss : 0.011456\n",
      " Epoch 4100/10000 : \tAcc : 1.0, Loss : 0.011438\n",
      " Epoch 4200/10000 : \tAcc : 1.0, Loss : 0.011424\n",
      " Epoch 4300/10000 : \tAcc : 1.0, Loss : 0.011409\n",
      " Epoch 4400/10000 : \tAcc : 1.0, Loss : 0.011395\n",
      " Epoch 4500/10000 : \tAcc : 1.0, Loss : 0.011387\n",
      " Epoch 4600/10000 : \tAcc : 1.0, Loss : 0.011381\n",
      " Epoch 4700/10000 : \tAcc : 1.0, Loss : 0.011376\n",
      " Epoch 4800/10000 : \tAcc : 1.0, Loss : 0.011373\n",
      " Epoch 4900/10000 : \tAcc : 1.0, Loss : 0.011370\n",
      " Epoch 5000/10000 : \tAcc : 1.0, Loss : 0.011368\n",
      " Epoch 5100/10000 : \tAcc : 1.0, Loss : 0.011366\n",
      " Epoch 5200/10000 : \tAcc : 1.0, Loss : 0.011364\n",
      " Epoch 5300/10000 : \tAcc : 1.0, Loss : 0.011362\n",
      " Epoch 5400/10000 : \tAcc : 1.0, Loss : 0.011361\n",
      " Epoch 5500/10000 : \tAcc : 1.0, Loss : 0.011359\n",
      " Epoch 5600/10000 : \tAcc : 1.0, Loss : 0.011358\n",
      " Epoch 5700/10000 : \tAcc : 1.0, Loss : 0.011356\n",
      " Epoch 5800/10000 : \tAcc : 1.0, Loss : 0.011355\n",
      " Epoch 5900/10000 : \tAcc : 1.0, Loss : 0.011354\n",
      " Epoch 6000/10000 : \tAcc : 1.0, Loss : 0.011353\n",
      " Epoch 6100/10000 : \tAcc : 1.0, Loss : 0.011352\n",
      " Epoch 6200/10000 : \tAcc : 1.0, Loss : 0.011350\n",
      " Epoch 6300/10000 : \tAcc : 1.0, Loss : 0.011349\n",
      " Epoch 6400/10000 : \tAcc : 1.0, Loss : 0.011348\n",
      " Epoch 6500/10000 : \tAcc : 1.0, Loss : 0.011347\n",
      " Epoch 6600/10000 : \tAcc : 1.0, Loss : 0.011346\n",
      " Epoch 6700/10000 : \tAcc : 1.0, Loss : 0.011345\n",
      " Epoch 6800/10000 : \tAcc : 1.0, Loss : 0.011344\n",
      " Epoch 6900/10000 : \tAcc : 1.0, Loss : 0.011343\n",
      " Epoch 7000/10000 : \tAcc : 1.0, Loss : 0.011342\n",
      " Epoch 7100/10000 : \tAcc : 1.0, Loss : 0.011341\n",
      " Epoch 7200/10000 : \tAcc : 1.0, Loss : 0.011340\n",
      " Epoch 7300/10000 : \tAcc : 1.0, Loss : 0.011339\n",
      " Epoch 7400/10000 : \tAcc : 1.0, Loss : 0.011338\n",
      " Epoch 7500/10000 : \tAcc : 1.0, Loss : 0.011337\n",
      " Epoch 7600/10000 : \tAcc : 1.0, Loss : 0.011336\n",
      " Epoch 7700/10000 : \tAcc : 1.0, Loss : 0.011335\n",
      " Epoch 7800/10000 : \tAcc : 1.0, Loss : 0.011335\n",
      " Epoch 7900/10000 : \tAcc : 1.0, Loss : 0.011334\n",
      " Epoch 8000/10000 : \tAcc : 1.0, Loss : 0.011333\n",
      " Epoch 8100/10000 : \tAcc : 1.0, Loss : 0.011332\n",
      " Epoch 8200/10000 : \tAcc : 1.0, Loss : 0.011331\n",
      " Epoch 8300/10000 : \tAcc : 1.0, Loss : 0.011330\n",
      " Epoch 8400/10000 : \tAcc : 1.0, Loss : 0.011329\n",
      " Epoch 8500/10000 : \tAcc : 1.0, Loss : 0.011328\n",
      " Epoch 8600/10000 : \tAcc : 1.0, Loss : 0.011327\n",
      " Epoch 8700/10000 : \tAcc : 1.0, Loss : 0.011327\n",
      " Epoch 8800/10000 : \tAcc : 1.0, Loss : 0.011325\n",
      " Epoch 8900/10000 : \tAcc : 1.0, Loss : 0.011317\n",
      " Epoch 9000/10000 : \tAcc : 1.0, Loss : 0.011315\n",
      " Epoch 9100/10000 : \tAcc : 1.0, Loss : 0.011312\n",
      " Epoch 9200/10000 : \tAcc : 1.0, Loss : 0.011311\n",
      " Epoch 9300/10000 : \tAcc : 1.0, Loss : 0.011309\n",
      " Epoch 9400/10000 : \tAcc : 1.0, Loss : 0.011307\n",
      " Epoch 9500/10000 : \tAcc : 1.0, Loss : 0.011306\n",
      " Epoch 9600/10000 : \tAcc : 1.0, Loss : 0.011304\n",
      " Epoch 9700/10000 : \tAcc : 1.0, Loss : 0.011302\n",
      " Epoch 9800/10000 : \tAcc : 1.0, Loss : 0.011301\n",
      " Epoch 9900/10000 : \tAcc : 1.0, Loss : 0.011299\n"
     ]
    }
   ],
   "source": [
    "for epoch in range(num_epochs):\n",
    "    outputs = model.forward(X_train_tensors_f)\n",
    "    optimizer.zero_grad()\n",
    "    loss = criterion(outputs, y_train_tensors)\n",
    "    loss.backward()\n",
    "    optimizer.step()\n",
    "\n",
    "    _, preds = torch.max(outputs, 1)\n",
    "    acc = (preds == y_train_tensors).sum() / X_train_tensors_f.shape[0]\n",
    "\n",
    "    if epoch % 100 == 0:\n",
    "        print(f' Epoch {epoch}/{num_epochs} : \\tAcc : {acc}, Loss : {loss.item():.6f}')"
   ]
  },
  {
   "cell_type": "code",
   "execution_count": 39,
   "metadata": {},
   "outputs": [],
   "source": [
    "df_x_ss = ss.transform(data.iloc[:, :-1])\n",
    "df_y_ms = ms.transform(data.iloc[:, -1:])\n",
    "\n",
    "df_x_ss = Variable(torch.Tensor(df_x_ss))\n",
    "df_y_ms = Variable(torch.Tensor(df_y_ms))\n",
    "\n",
    "df_x_ss = torch.reshape(df_x_ss, (df_x_ss.shape[0], 1, df_x_ss.shape[1]))"
   ]
  },
  {
   "cell_type": "code",
   "execution_count": 40,
   "metadata": {},
   "outputs": [
    {
     "data": {
      "text/plain": [
       "tensor([[[0.4650, 0.4364, 0.5154, 0.4961, 0.3955]],\n",
       "\n",
       "        [[0.6539, 0.6627, 0.6904, 0.6712, 0.5653]],\n",
       "\n",
       "        [[0.6561, 0.6515, 0.6945, 0.7209, 0.6136]],\n",
       "\n",
       "        ...,\n",
       "\n",
       "        [[1.9970, 2.0828, 1.9814, 2.0760, 2.1469]],\n",
       "\n",
       "        [[2.1675, 2.1545, 1.9907, 1.9885, 2.0602]],\n",
       "\n",
       "        [[2.3380, 2.5890, 2.2651, 2.5277, 2.5941]]])"
      ]
     },
     "execution_count": 40,
     "metadata": {},
     "output_type": "execute_result"
    }
   ],
   "source": [
    "df_x_ss"
   ]
  },
  {
   "cell_type": "code",
   "execution_count": 41,
   "metadata": {},
   "outputs": [
    {
     "data": {
      "image/png": "[encoded data removed]",
      "text/plain": [
       "<Figure size 720x432 with 1 Axes>"
      ]
     },
     "metadata": {
      "needs_background": "light"
     },
     "output_type": "display_data"
    }
   ],
   "source": [
    "train_predict = model(df_x_ss)\n",
    "pred = train_predict.data.numpy()\n",
    "label_y = df_y_ms.data.numpy()\n",
    "\n",
    "pred = ms.inverse_transform(pred)\n",
    "label_y = ms.inverse_transform(label_y)\n",
    "\n",
    "plt.figure(figsize=(10, 6))\n",
    "plt.axvline(x=200, c='r', linestyle='--')\n",
    "plt.plot(label_y, label='Actual Data')\n",
    "plt.plot(pred, label='Predicted Data')\n",
    "plt.title('Time-Series-Prediction')\n",
    "plt.legend()\n",
    "plt.show()"
   ]
  },
  {
   "cell_type": "code",
   "execution_count": null,
   "metadata": {},
   "outputs": [],
   "source": []
  }
 ],
 "metadata": {
  "kernelspec": {
   "display_name": "ds_study",
   "language": "python",
   "name": "python3"
  },
  "language_info": {
   "codemirror_mode": {
    "name": "ipython",
    "version": 3
   },
   "file_extension": ".py",
   "mimetype": "text/x-python",
   "name": "python",
   "nbconvert_exporter": "python",
   "pygments_lexer": "ipython3",
   "version": "3.8.12"
  }
 },
 "nbformat": 4,
 "nbformat_minor": 2
}

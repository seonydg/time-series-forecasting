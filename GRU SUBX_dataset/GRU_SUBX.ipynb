{
 "cells": [
  {
   "cell_type": "code",
   "execution_count": 1,
   "metadata": {},
   "outputs": [],
   "source": [
    "import os\n",
    "import time\n",
    "import numpy as np\n",
    "import pandas as pd\n",
    "import matplotlib.pyplot as plt\n",
    "from tqdm import tqdm\n",
    "\n",
    "import torch\n",
    "import torch.nn as nn\n",
    "from torch.utils.data import TensorDataset, DataLoader\n",
    "from torch.autograd import Variable\n",
    "\n",
    "from sklearn.preprocessing import StandardScaler, MinMaxScaler\n",
    "from sklearn.model_selection import train_test_split\n",
    "\n",
    "%matplotlib inline"
   ]
  },
  {
   "cell_type": "markdown",
   "metadata": {},
   "source": [
    "# 데이터 확인"
   ]
  },
  {
   "cell_type": "code",
   "execution_count": 2,
   "metadata": {},
   "outputs": [
    {
     "name": "stdout",
     "output_type": "stream",
     "text": [
      "<class 'pandas.core.frame.DataFrame'>\n",
      "RangeIndex: 253 entries, 0 to 252\n",
      "Data columns (total 7 columns):\n",
      " #   Column     Non-Null Count  Dtype  \n",
      "---  ------     --------------  -----  \n",
      " 0   Date       253 non-null    object \n",
      " 1   Open       253 non-null    float64\n",
      " 2   High       253 non-null    float64\n",
      " 3   Low        253 non-null    float64\n",
      " 4   Close      253 non-null    float64\n",
      " 5   Adj Close  253 non-null    float64\n",
      " 6   Volume     253 non-null    int64  \n",
      "dtypes: float64(5), int64(1), object(1)\n",
      "memory usage: 14.0+ KB\n"
     ]
    }
   ],
   "source": [
    "data = pd.read_csv('./data/SBUX.csv')\n",
    "data.info()"
   ]
  },
  {
   "cell_type": "code",
   "execution_count": 3,
   "metadata": {},
   "outputs": [
    {
     "data": {
      "text/html": [
       "<div>\n",
       "<style scoped>\n",
       "    .dataframe tbody tr th:only-of-type {\n",
       "        vertical-align: middle;\n",
       "    }\n",
       "\n",
       "    .dataframe tbody tr th {\n",
       "        vertical-align: top;\n",
       "    }\n",
       "\n",
       "    .dataframe thead th {\n",
       "        text-align: right;\n",
       "    }\n",
       "</style>\n",
       "<table border=\"1\" class=\"dataframe\">\n",
       "  <thead>\n",
       "    <tr style=\"text-align: right;\">\n",
       "      <th></th>\n",
       "      <th>Date</th>\n",
       "      <th>Open</th>\n",
       "      <th>High</th>\n",
       "      <th>Low</th>\n",
       "      <th>Close</th>\n",
       "      <th>Adj Close</th>\n",
       "      <th>Volume</th>\n",
       "    </tr>\n",
       "  </thead>\n",
       "  <tbody>\n",
       "    <tr>\n",
       "      <th>0</th>\n",
       "      <td>2019-12-11</td>\n",
       "      <td>86.260002</td>\n",
       "      <td>86.870003</td>\n",
       "      <td>85.849998</td>\n",
       "      <td>86.589996</td>\n",
       "      <td>84.145752</td>\n",
       "      <td>4921900</td>\n",
       "    </tr>\n",
       "    <tr>\n",
       "      <th>1</th>\n",
       "      <td>2019-12-12</td>\n",
       "      <td>88.000000</td>\n",
       "      <td>88.889999</td>\n",
       "      <td>87.540001</td>\n",
       "      <td>88.209999</td>\n",
       "      <td>85.720032</td>\n",
       "      <td>10282100</td>\n",
       "    </tr>\n",
       "    <tr>\n",
       "      <th>2</th>\n",
       "      <td>2019-12-13</td>\n",
       "      <td>88.019997</td>\n",
       "      <td>88.790001</td>\n",
       "      <td>87.580002</td>\n",
       "      <td>88.669998</td>\n",
       "      <td>86.167046</td>\n",
       "      <td>6714100</td>\n",
       "    </tr>\n",
       "    <tr>\n",
       "      <th>3</th>\n",
       "      <td>2019-12-16</td>\n",
       "      <td>89.139999</td>\n",
       "      <td>89.300003</td>\n",
       "      <td>88.430000</td>\n",
       "      <td>88.779999</td>\n",
       "      <td>86.273941</td>\n",
       "      <td>6705600</td>\n",
       "    </tr>\n",
       "    <tr>\n",
       "      <th>4</th>\n",
       "      <td>2019-12-17</td>\n",
       "      <td>88.870003</td>\n",
       "      <td>88.970001</td>\n",
       "      <td>87.470001</td>\n",
       "      <td>88.129997</td>\n",
       "      <td>85.642288</td>\n",
       "      <td>7296900</td>\n",
       "    </tr>\n",
       "  </tbody>\n",
       "</table>\n",
       "</div>"
      ],
      "text/plain": [
       "         Date       Open       High        Low      Close  Adj Close    Volume\n",
       "0  2019-12-11  86.260002  86.870003  85.849998  86.589996  84.145752   4921900\n",
       "1  2019-12-12  88.000000  88.889999  87.540001  88.209999  85.720032  10282100\n",
       "2  2019-12-13  88.019997  88.790001  87.580002  88.669998  86.167046   6714100\n",
       "3  2019-12-16  89.139999  89.300003  88.430000  88.779999  86.273941   6705600\n",
       "4  2019-12-17  88.870003  88.970001  87.470001  88.129997  85.642288   7296900"
      ]
     },
     "execution_count": 3,
     "metadata": {},
     "output_type": "execute_result"
    }
   ],
   "source": [
    "data.head()"
   ]
  },
  {
   "cell_type": "code",
   "execution_count": 4,
   "metadata": {},
   "outputs": [
    {
     "data": {
      "text/html": [
       "<div>\n",
       "<style scoped>\n",
       "    .dataframe tbody tr th:only-of-type {\n",
       "        vertical-align: middle;\n",
       "    }\n",
       "\n",
       "    .dataframe tbody tr th {\n",
       "        vertical-align: top;\n",
       "    }\n",
       "\n",
       "    .dataframe thead th {\n",
       "        text-align: right;\n",
       "    }\n",
       "</style>\n",
       "<table border=\"1\" class=\"dataframe\">\n",
       "  <thead>\n",
       "    <tr style=\"text-align: right;\">\n",
       "      <th></th>\n",
       "      <th>Open</th>\n",
       "      <th>High</th>\n",
       "      <th>Low</th>\n",
       "      <th>Close</th>\n",
       "      <th>Adj Close</th>\n",
       "      <th>Volume</th>\n",
       "    </tr>\n",
       "    <tr>\n",
       "      <th>Date</th>\n",
       "      <th></th>\n",
       "      <th></th>\n",
       "      <th></th>\n",
       "      <th></th>\n",
       "      <th></th>\n",
       "      <th></th>\n",
       "    </tr>\n",
       "  </thead>\n",
       "  <tbody>\n",
       "    <tr>\n",
       "      <th>2019-12-11</th>\n",
       "      <td>86.260002</td>\n",
       "      <td>86.870003</td>\n",
       "      <td>85.849998</td>\n",
       "      <td>86.589996</td>\n",
       "      <td>84.145752</td>\n",
       "      <td>4921900.0</td>\n",
       "    </tr>\n",
       "    <tr>\n",
       "      <th>2019-12-12</th>\n",
       "      <td>88.000000</td>\n",
       "      <td>88.889999</td>\n",
       "      <td>87.540001</td>\n",
       "      <td>88.209999</td>\n",
       "      <td>85.720032</td>\n",
       "      <td>10282100.0</td>\n",
       "    </tr>\n",
       "    <tr>\n",
       "      <th>2019-12-13</th>\n",
       "      <td>88.019997</td>\n",
       "      <td>88.790001</td>\n",
       "      <td>87.580002</td>\n",
       "      <td>88.669998</td>\n",
       "      <td>86.167046</td>\n",
       "      <td>6714100.0</td>\n",
       "    </tr>\n",
       "    <tr>\n",
       "      <th>2019-12-16</th>\n",
       "      <td>89.139999</td>\n",
       "      <td>89.300003</td>\n",
       "      <td>88.430000</td>\n",
       "      <td>88.779999</td>\n",
       "      <td>86.273941</td>\n",
       "      <td>6705600.0</td>\n",
       "    </tr>\n",
       "    <tr>\n",
       "      <th>2019-12-17</th>\n",
       "      <td>88.870003</td>\n",
       "      <td>88.970001</td>\n",
       "      <td>87.470001</td>\n",
       "      <td>88.129997</td>\n",
       "      <td>85.642288</td>\n",
       "      <td>7296900.0</td>\n",
       "    </tr>\n",
       "  </tbody>\n",
       "</table>\n",
       "</div>"
      ],
      "text/plain": [
       "                 Open       High        Low      Close  Adj Close      Volume\n",
       "Date                                                                         \n",
       "2019-12-11  86.260002  86.870003  85.849998  86.589996  84.145752   4921900.0\n",
       "2019-12-12  88.000000  88.889999  87.540001  88.209999  85.720032  10282100.0\n",
       "2019-12-13  88.019997  88.790001  87.580002  88.669998  86.167046   6714100.0\n",
       "2019-12-16  89.139999  89.300003  88.430000  88.779999  86.273941   6705600.0\n",
       "2019-12-17  88.870003  88.970001  87.470001  88.129997  85.642288   7296900.0"
      ]
     },
     "execution_count": 4,
     "metadata": {},
     "output_type": "execute_result"
    }
   ],
   "source": [
    "data['Date'] = pd.to_datetime(data['Date'])\n",
    "data.set_index('Date', inplace=True)\n",
    "data['Volume'] = data['Volume'].astype(float)\n",
    "\n",
    "data.head()"
   ]
  },
  {
   "cell_type": "markdown",
   "metadata": {},
   "source": [
    "- scaling"
   ]
  },
  {
   "cell_type": "code",
   "execution_count": 7,
   "metadata": {},
   "outputs": [],
   "source": [
    "X = data.drop('Volume', axis=1)\n",
    "Y = data[['Volume']]"
   ]
  },
  {
   "cell_type": "code",
   "execution_count": 8,
   "metadata": {},
   "outputs": [
    {
     "data": {
      "text/plain": [
       "((200, 5), (200, 1), (53, 5), (53, 1))"
      ]
     },
     "execution_count": 8,
     "metadata": {},
     "output_type": "execute_result"
    }
   ],
   "source": [
    "ms = MinMaxScaler()\n",
    "ss = StandardScaler()\n",
    "\n",
    "X_ss = ss.fit_transform(X)\n",
    "Y_ms = ms.fit_transform(Y)\n",
    "\n",
    "train_x = X_ss[:200, :]\n",
    "test_x = X_ss[200:, :]\n",
    "train_y = Y_ms[:200, :]\n",
    "test_y = Y_ms[200:, :]\n",
    "\n",
    "train_x.shape, train_y.shape, test_x.shape, test_y.shape"
   ]
  },
  {
   "cell_type": "markdown",
   "metadata": {},
   "source": [
    "- preprocessing"
   ]
  },
  {
   "cell_type": "code",
   "execution_count": 11,
   "metadata": {},
   "outputs": [
    {
     "data": {
      "text/plain": [
       "(torch.Size([200, 1, 5]),\n",
       " torch.Size([200, 1]),\n",
       " torch.Size([53, 1, 5]),\n",
       " torch.Size([53, 1]))"
      ]
     },
     "execution_count": 11,
     "metadata": {},
     "output_type": "execute_result"
    }
   ],
   "source": [
    "train_tensor_x = Variable(torch.Tensor(train_x))\n",
    "test_tensor_x = Variable(torch.Tensor(test_x))\n",
    "train_tensor_y = Variable(torch.Tensor(train_y))\n",
    "test_tensor_y = Variable(torch.Tensor(test_y))\n",
    "\n",
    "train_x_f = torch.reshape(train_tensor_x, (train_tensor_x.shape[0], 1, train_tensor_x.shape[1]))\n",
    "test_x_f = torch.reshape(test_tensor_x, (test_tensor_x.shape[0], 1, test_tensor_x.shape[1]))\n",
    "\n",
    "train_x_f.shape, train_tensor_y.shape, test_x_f.shape, test_tensor_y.shape"
   ]
  },
  {
   "cell_type": "code",
   "execution_count": null,
   "metadata": {},
   "outputs": [],
   "source": []
  }
 ],
 "metadata": {
  "kernelspec": {
   "display_name": "ds_study",
   "language": "python",
   "name": "python3"
  },
  "language_info": {
   "codemirror_mode": {
    "name": "ipython",
    "version": 3
   },
   "file_extension": ".py",
   "mimetype": "text/x-python",
   "name": "python",
   "nbconvert_exporter": "python",
   "pygments_lexer": "ipython3",
   "version": "3.8.12"
  }
 },
 "nbformat": 4,
 "nbformat_minor": 2
}
